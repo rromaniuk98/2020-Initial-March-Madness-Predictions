{
 "cells": [
  {
   "cell_type": "markdown",
   "metadata": {},
   "source": [
    "## Import Stuff"
   ]
  },
  {
   "cell_type": "code",
   "execution_count": 31,
   "metadata": {},
   "outputs": [],
   "source": [
    "import pandas as pd\n",
    "import numpy as np\n",
    "import re\n",
    "import requests\n",
    "from bs4 import BeautifulSoup"
   ]
  },
  {
   "cell_type": "markdown",
   "metadata": {},
   "source": [
    "## Import CSV's (HOME)"
   ]
  },
  {
   "cell_type": "code",
   "execution_count": null,
   "metadata": {},
   "outputs": [],
   "source": [
    "##########\n",
    "#TeamStats\n",
    "##########\n",
    "\n",
    "TeamStats = pd.read_csv(\"C:\\\\Users\\\\Acer\\\\Desktop\\\\Web Scraping\\\\TeamStats.csv\")"
   ]
  },
  {
   "cell_type": "code",
   "execution_count": null,
   "metadata": {},
   "outputs": [],
   "source": [
    "##########\n",
    "#2019TeamStats\n",
    "##########\n",
    "\n",
    "TeamStats19 = pd.read_csv(\"C:\\\\Users\\\\Acer\\\\Desktop\\\\Web Scraping\\\\2019TeamStats.csv\")"
   ]
  },
  {
   "cell_type": "code",
   "execution_count": null,
   "metadata": {},
   "outputs": [],
   "source": [
    "##########\n",
    "#2018TeamStats\n",
    "##########\n",
    "\n",
    "TeamStats18 = pd.read_csv(\"C:\\\\Users\\\\Acer\\\\Desktop\\\\Web Scraping\\\\2018TeamStats.csv\")"
   ]
  },
  {
   "cell_type": "code",
   "execution_count": null,
   "metadata": {},
   "outputs": [],
   "source": [
    "##########\n",
    "#APPoll\n",
    "##########\n",
    "\n",
    "APPoll = pd.read_csv(\"C:\\\\Users\\\\Acer\\\\Desktop\\\\Web Scraping\\\\APPoll.csv\")"
   ]
  },
  {
   "cell_type": "code",
   "execution_count": null,
   "metadata": {},
   "outputs": [],
   "source": [
    "##########\n",
    "#2019APPoll\n",
    "##########\n",
    "\n",
    "APPoll19 = pd.read_csv(\"C:\\\\Users\\\\Acer\\\\Desktop\\\\Web Scraping\\\\2019APPoll.csv\")"
   ]
  },
  {
   "cell_type": "code",
   "execution_count": null,
   "metadata": {},
   "outputs": [],
   "source": [
    "##########\n",
    "#2018APPoll\n",
    "##########\n",
    "\n",
    "APPoll18 = pd.read_csv(\"C:\\\\Users\\\\Acer\\\\Desktop\\\\Web Scraping\\\\2018APPoll.csv\")"
   ]
  },
  {
   "cell_type": "code",
   "execution_count": null,
   "metadata": {},
   "outputs": [],
   "source": [
    "##########\n",
    "#KenPom\n",
    "##########\n",
    "\n",
    "KenPom = pd.read_csv(\"C:\\\\Users\\\\Acer\\\\Desktop\\\\Web Scraping\\\\KenPom.csv\")"
   ]
  },
  {
   "cell_type": "code",
   "execution_count": null,
   "metadata": {},
   "outputs": [],
   "source": [
    "##########\n",
    "#2019KenPom\n",
    "##########\n",
    "\n",
    "KenPom19 = pd.read_csv(\"C:\\\\Users\\\\Acer\\\\Desktop\\\\Web Scraping\\\\2019KenPom.csv\")"
   ]
  },
  {
   "cell_type": "code",
   "execution_count": null,
   "metadata": {},
   "outputs": [],
   "source": [
    "##########\n",
    "#2018KenPom\n",
    "##########\n",
    "\n",
    "KenPom18 = pd.read_csv(\"C:\\\\Users\\\\Acer\\\\Desktop\\\\Web Scraping\\\\2018KenPom.csv\")"
   ]
  },
  {
   "cell_type": "code",
   "execution_count": null,
   "metadata": {},
   "outputs": [],
   "source": [
    "##########\n",
    "#PreSeasonAPPoll\n",
    "##########\n",
    "\n",
    "PSAPPoll = pd.read_csv(\"C:\\\\Users\\\\Acer\\\\Desktop\\\\WebScraping\\\\PreSeasonAPPoll.csv\")"
   ]
  },
  {
   "cell_type": "code",
   "execution_count": null,
   "metadata": {},
   "outputs": [],
   "source": [
    "##########\n",
    "#2019PreSeasonAPPoll\n",
    "##########\n",
    "\n",
    "PSAPPoll19 = pd.read_csv(\"C:\\\\Users\\\\Acer\\\\Desktop\\\\Web Scraping\\\\2019PreSeasonAPPoll.csv\")"
   ]
  },
  {
   "cell_type": "code",
   "execution_count": null,
   "metadata": {},
   "outputs": [],
   "source": [
    "##########\n",
    "#2018PreSeasonAPPoll\n",
    "##########\n",
    "\n",
    "PSAPPoll18 = pd.read_csv(\"C:\\\\Users\\\\Acer\\\\Desktop\\\\Web Scraping\\\\2018PreSeasonAPPoll.csv\")"
   ]
  },
  {
   "cell_type": "code",
   "execution_count": 8,
   "metadata": {},
   "outputs": [],
   "source": [
    "##########\n",
    "#Standings\n",
    "##########\n",
    "\n",
    "AmericaEast = pd.read_csv(\"C:\\\\Users\\\\Acer\\\\Desktop\\\\Web Scraping\\\\Leagues\\\\America East.csv\")\n",
    "AmericanAthletic = pd.read_csv(\"C:\\\\Users\\\\Acer\\\\Desktop\\\\Web Scraping\\\\Leagues\\\\American Athletic.csv\")\n",
    "Atlantic10 = pd.read_csv(\"C:\\\\Users\\\\Acer\\\\Desktop\\\\Web Scraping\\\\Leagues\\\\Atlantic 10.csv\")\n",
    "AtlanticCoast = pd.read_csv(\"C:\\\\Users\\\\Acer\\\\Desktop\\\\Web Scraping\\\\Leagues\\\\Atlantic Coast.csv\")\n",
    "AtlanticSun = pd.read_csv(\"C:\\\\Users\\\\Acer\\\\Desktop\\\\Web Scraping\\\\Leagues\\\\Atlantic Sun.csv\")\n",
    "Big12 = pd.read_csv(\"C:\\\\Users\\\\Acer\\\\Desktop\\\\Web Scraping\\\\Leagues\\\\Big 12.csv\")\n",
    "BigEast = pd.read_csv(\"C:\\\\Users\\\\Acer\\\\Desktop\\\\Web Scraping\\\\Leagues\\\\Big East.csv\")\n",
    "BigSky  = pd.read_csv(\"C:\\\\Users\\\\Acer\\\\Desktop\\\\Web Scraping\\\\Leagues\\\\Big Sky.csv\")\n",
    "BigSouth = pd.read_csv(\"C:\\\\Users\\\\Acer\\\\Desktop\\\\Web Scraping\\\\Leagues\\\\Big South.csv\")\n",
    "BigTen = pd.read_csv(\"C:\\\\Users\\\\Acer\\\\Desktop\\\\Web Scraping\\\\Leagues\\\\Big Ten.csv\")\n",
    "BigWest = pd.read_csv(\"C:\\\\Users\\\\Acer\\\\Desktop\\\\Web Scraping\\\\Leagues\\\\Big West.csv\")\n",
    "Colonial = pd.read_csv(\"C:\\\\Users\\\\Acer\\\\Desktop\\\\Web Scraping\\\\Leagues\\\\Colonial.csv\")\n",
    "ConferenceUSA = pd.read_csv(\"C:\\\\Users\\\\Acer\\\\Desktop\\\\Web Scraping\\\\Leagues\\\\Conference USA.csv\")\n",
    "Horizon = pd.read_csv(\"C:\\\\Users\\\\Acer\\\\Desktop\\\\Web Scraping\\\\Leagues\\\\Horizon.csv\")\n",
    "Ivy = pd.read_csv(\"C:\\\\Users\\\\Acer\\\\Desktop\\\\Web Scraping\\\\Leagues\\\\Ivy.csv\")\n",
    "MetroAtlanticAthletic = pd.read_csv(\"C:\\\\Users\\\\Acer\\\\Desktop\\\\Web Scraping\\\\Leagues\\\\Metro Atlantic Athletic.csv\")\n",
    "MidEasternAthletic = pd.read_csv(\"C:\\\\Users\\\\Acer\\\\Desktop\\\\Web Scraping\\\\Leagues\\\\Mid Eastern Athletic.csv\")\n",
    "MidAmerican = pd.read_csv(\"C:\\\\Users\\\\Acer\\\\Desktop\\\\Web Scraping\\\\Leagues\\\\Mid-American.csv\")\n",
    "MissouriValley = pd.read_csv(\"C:\\\\Users\\\\Acer\\\\Desktop\\\\Web Scraping\\\\Leagues\\\\Missouri Valley.csv\")\n",
    "MountainWest = pd.read_csv(\"C:\\\\Users\\\\Acer\\\\Desktop\\\\Web Scraping\\\\Leagues\\\\Mountain West.csv\")\n",
    "Northeast = pd.read_csv(\"C:\\\\Users\\\\Acer\\\\Desktop\\\\Web Scraping\\\\Leagues\\\\Northeast.csv\")\n",
    "OhioValley = pd.read_csv(\"C:\\\\Users\\\\Acer\\\\Desktop\\\\Web Scraping\\\\Leagues\\\\Ohio Valley.csv\")\n",
    "Pacific12 = pd.read_csv(\"C:\\\\Users\\\\Acer\\\\Desktop\\\\Web Scraping\\\\Leagues\\\\Pacific 12.csv\")\n",
    "PatriotLeague = pd.read_csv(\"C:\\\\Users\\\\Acer\\\\Desktop\\\\Web Scraping\\\\Leagues\\\\Patriot League.csv\")\n",
    "Southeastern = pd.read_csv(\"C:\\\\Users\\\\Acer\\\\Desktop\\\\Web Scraping\\\\Leagues\\\\Southeastern.csv\")\n",
    "Southern = pd.read_csv(\"C:\\\\Users\\\\Acer\\\\Desktop\\\\Web Scraping\\\\Leagues\\\\Southern.csv\")\n",
    "Southland = pd.read_csv(\"C:\\\\Users\\\\Acer\\\\Desktop\\\\Web Scraping\\\\Leagues\\\\Southland.csv\")\n",
    "SouthwesternAthletic = pd.read_csv(\"C:\\\\Users\\\\Acer\\\\Desktop\\\\Web Scraping\\\\Leagues\\\\Southwestern Athletic.csv\")\n",
    "SummitLeague = pd.read_csv(\"C:\\\\Users\\\\Acer\\\\Desktop\\\\Web Scraping\\\\Leagues\\\\Summit League.csv\")\n",
    "SunBelt = pd.read_csv(\"C:\\\\Users\\\\Acer\\\\Desktop\\\\Web Scraping\\\\Leagues\\\\Sun Belt.csv\")\n",
    "WestCoast = pd.read_csv(\"C:\\\\Users\\\\Acer\\\\Desktop\\\\Web Scraping\\\\Leagues\\\\West Coast.csv\")\n",
    "WesternAthletic = pd.read_csv(\"C:\\\\Users\\\\Acer\\\\Desktop\\\\Web Scraping\\\\Leagues\\\\Western Athletic.csv\")\n",
    "Tables = [AmericaEast, AmericanAthletic, Atlantic10, AtlanticCoast, AtlanticSun, Big12, BigEast, BigSky, BigSouth, BigTen, BigWest, Colonial, ConferenceUSA, Horizon, Ivy, MetroAtlanticAthletic, MidEasternAthletic, MidAmerican, MissouriValley, MountainWest, Northeast, OhioValley, Pacific12, PatriotLeague, Southeastern, Southern, Southland, SouthwesternAthletic, SummitLeague, SunBelt, WestCoast, WesternAthletic]"
   ]
  },
  {
   "cell_type": "code",
   "execution_count": null,
   "metadata": {},
   "outputs": [],
   "source": [
    "##########\n",
    "#2019Standings\n",
    "##########\n",
    "\n",
    "AmericaEast19 = pd.read_csv(\"C:\\\\Users\\\\Acer\\\\Desktop\\\\Web Scraping\\\\2019Leagues\\\\America East.csv\")\n",
    "AmericanAthletic19 = pd.read_csv(\"C:\\\\Users\\\\Acer\\\\Desktop\\\\Web Scraping\\\\2019Leagues\\\\American Athletic.csv\")\n",
    "Atlantic1019 = pd.read_csv(\"C:\\\\Users\\\\Acer\\\\Desktop\\\\Web Scraping\\\\2019Leagues\\\\Atlantic 10.csv\")\n",
    "AtlanticCoast19 = pd.read_csv(\"C:\\\\Users\\\\Acer\\\\Desktop\\\\Web Scraping\\\\2019Leagues\\\\Atlantic Coast.csv\")\n",
    "AtlanticSun19 = pd.read_csv(\"C:\\\\Users\\\\Acer\\\\Desktop\\\\Web Scraping\\\\2019Leagues\\\\Atlantic Sun.csv\")\n",
    "Big1219 = pd.read_csv(\"C:\\\\Users\\\\Acer\\\\Desktop\\\\Web Scraping\\\\2019Leagues\\\\Big 12.csv\")\n",
    "BigEast19 = pd.read_csv(\"C:\\\\Users\\\\Acer\\\\Desktop\\\\Web Scraping\\\\2019Leagues\\\\Big East.csv\")\n",
    "BigSky19  = pd.read_csv(\"C:\\\\Users\\\\Acer\\\\Desktop\\\\Web Scraping\\\\2019Leagues\\\\Big Sky.csv\")\n",
    "BigSouth19 = pd.read_csv(\"C:\\\\Users\\\\Acer\\\\Desktop\\\\Web Scraping\\\\2019Leagues\\\\Big South.csv\")\n",
    "BigTen19 = pd.read_csv(\"C:\\\\Users\\\\Acer\\\\Desktop\\\\Web Scraping\\\\2019Leagues\\\\Big Ten.csv\")\n",
    "BigWest19 = pd.read_csv(\"C:\\\\Users\\\\Acer\\\\Desktop\\\\Web Scraping\\\\2019Leagues\\\\Big West.csv\")\n",
    "Colonial19 = pd.read_csv(\"C:\\\\Users\\\\Acer\\\\Desktop\\\\Web Scraping\\\\2019Leagues\\\\Colonial.csv\")\n",
    "ConferenceUSA19 = pd.read_csv(\"C:\\\\Users\\\\Acer\\\\Desktop\\\\Web Scraping\\\\2019Leagues\\\\Conference USA.csv\")\n",
    "Horizon19 = pd.read_csv(\"C:\\\\Users\\\\Acer\\\\Desktop\\\\Web Scraping\\\\2019Leagues\\\\Horizon.csv\")\n",
    "Ivy19 = pd.read_csv(\"C:\\\\Users\\\\Acer\\\\Desktop\\\\Web Scraping\\\\2019Leagues\\\\Ivy.csv\")\n",
    "MetroAtlanticAthletic19 = pd.read_csv(\"C:\\\\Users\\\\Acer\\\\Desktop\\\\Web Scraping\\\\2019Leagues\\\\Metro Atlantic Athletic.csv\")\n",
    "MidEasternAthletic19 = pd.read_csv(\"C:\\\\Users\\\\Acer\\\\Desktop\\\\Web Scraping\\\\2019Leagues\\\\Mid Eastern Athletic.csv\")\n",
    "MidAmerican19 = pd.read_csv(\"C:\\\\Users\\\\Acer\\\\Desktop\\\\Web Scraping\\\\2019Leagues\\\\Mid-American.csv\")\n",
    "MissouriValley19 = pd.read_csv(\"C:\\\\Users\\\\Acer\\\\Desktop\\\\Web Scraping\\\\2019Leagues\\\\Missouri Valley.csv\")\n",
    "MountainWest19 = pd.read_csv(\"C:\\\\Users\\\\Acer\\\\Desktop\\\\Web Scraping\\\\2019Leagues\\\\Mountain West.csv\")\n",
    "Northeast19 = pd.read_csv(\"C:\\\\Users\\\\Acer\\\\Desktop\\\\Web Scraping\\\\2019Leagues\\\\Northeast.csv\")\n",
    "OhioValley19 = pd.read_csv(\"C:\\\\Users\\\\Acer\\\\Desktop\\\\Web Scraping\\\\2019Leagues\\\\Ohio Valley.csv\")\n",
    "Pacific1219 = pd.read_csv(\"C:\\\\Users\\\\Acer\\\\Desktop\\\\Web Scraping\\\\2019Leagues\\\\Pacific 12.csv\")\n",
    "PatriotLeague19 = pd.read_csv(\"C:\\\\Users\\\\Acer\\\\Desktop\\\\Web Scraping\\\\2019Leagues\\\\Patriot League.csv\")\n",
    "Southeastern19 = pd.read_csv(\"C:\\\\Users\\\\Acer\\\\Desktop\\\\Web Scraping\\\\2019Leagues\\\\Southeastern.csv\")\n",
    "Southern19 = pd.read_csv(\"C:\\\\Users\\\\Acer\\\\Desktop\\\\Web Scraping\\\\2019Leagues\\\\Southern.csv\")\n",
    "Southland19 = pd.read_csv(\"C:\\\\Users\\\\Acer\\\\Desktop\\\\Web Scraping\\\\2019Leagues\\\\Southland.csv\")\n",
    "SouthwesternAthletic19 = pd.read_csv(\"C:\\\\Users\\\\Acer\\\\Desktop\\\\Web Scraping\\\\2019Leagues\\\\Southwestern Athletic.csv\")\n",
    "SummitLeague19 = pd.read_csv(\"C:\\\\Users\\\\Acer\\\\Desktop\\\\Web Scraping\\\\2019Leagues\\\\Summit League.csv\")\n",
    "SunBelt19 = pd.read_csv(\"C:\\\\Users\\\\Acer\\\\Desktop\\\\Web Scraping\\\\2019Leagues\\\\Sun Belt.csv\")\n",
    "WestCoast19 = pd.read_csv(\"C:\\\\Users\\\\Acer\\\\Desktop\\\\Web Scraping\\\\2019Leagues\\\\West Coast.csv\")\n",
    "WesternAthletic19 = pd.read_csv(\"C:\\\\Users\\\\Acer\\\\Desktop\\\\Web Scraping\\\\2019Leagues\\\\Western Athletic.csv\")\n",
    "Tables19 = [AmericaEast19, AmericanAthletic19, Atlantic1019, AtlanticCoast19, AtlanticSun19, Big1219, BigEast19, BigSky19, BigSouth19, BigTen19, BigWest19, Colonial19, ConferenceUSA19, Horizon19, Ivy19, MetroAtlanticAthletic19, MidEasternAthletic19, MidAmerican19, MissouriValley19, MountainWest19, Northeast19, OhioValley19, Pacific1219, PatriotLeague19, Southeastern19, Southern19, Southland19, SouthwesternAthletic19, SummitLeague19, SunBelt19, WestCoast19, WesternAthletic19]"
   ]
  },
  {
   "cell_type": "code",
   "execution_count": null,
   "metadata": {},
   "outputs": [],
   "source": [
    "##########\n",
    "#2018Standings\n",
    "##########\n",
    "\n",
    "AmericaEast18 = pd.read_csv(\"C:\\\\Users\\\\Acer\\\\Desktop\\\\Web Scraping\\\\2018Leagues\\\\America East.csv\")\n",
    "AmericanAthletic18 = pd.read_csv(\"C:\\\\Users\\\\Acer\\\\Desktop\\\\Web Scraping\\\\2018Leagues\\\\American Athletic.csv\")\n",
    "Atlantic1018 = pd.read_csv(\"C:\\\\Users\\\\Acer\\\\Desktop\\\\Web Scraping\\\\2018Leagues\\\\Atlantic 10.csv\")\n",
    "AtlanticCoast18 = pd.read_csv(\"C:\\\\Users\\\\Acer\\\\Desktop\\\\Web Scraping\\\\2018Leagues\\\\Atlantic Coast.csv\")\n",
    "AtlanticSun18 = pd.read_csv(\"C:\\\\Users\\\\Acer\\\\Desktop\\\\Web Scraping\\\\2018Leagues\\\\Atlantic Sun.csv\")\n",
    "Big1218 = pd.read_csv(\"C:\\\\Users\\\\Acer\\\\Desktop\\\\Web Scraping\\\\2018Leagues\\\\Big 12.csv\")\n",
    "BigEast18 = pd.read_csv(\"C:\\\\Users\\\\Acer\\\\Desktop\\\\Web Scraping\\\\2018Leagues\\\\Big East.csv\")\n",
    "BigSky18  = pd.read_csv(\"C:\\\\Users\\\\Acer\\\\Desktop\\\\Web Scraping\\\\2018Leagues\\\\Big Sky.csv\")\n",
    "BigSouth18 = pd.read_csv(\"C:\\\\Users\\\\Acer\\\\Desktop\\\\Web Scraping\\\\2018Leagues\\\\Big South.csv\")\n",
    "BigTen18 = pd.read_csv(\"C:\\\\Users\\\\Acer\\\\Desktop\\\\Web Scraping\\\\2018Leagues\\\\Big Ten.csv\")\n",
    "BigWest18 = pd.read_csv(\"C:\\\\Users\\\\Acer\\\\Desktop\\\\Web Scraping\\\\2018Leagues\\\\Big West.csv\")\n",
    "Colonial18 = pd.read_csv(\"C:\\\\Users\\\\Acer\\\\Desktop\\\\Web Scraping\\\\2018Leagues\\\\Colonial.csv\")\n",
    "ConferenceUSA18 = pd.read_csv(\"C:\\\\Users\\\\Acer\\\\Desktop\\\\Web Scraping\\\\2018Leagues\\\\Conference USA.csv\")\n",
    "Horizon18 = pd.read_csv(\"C:\\\\Users\\\\Acer\\\\Desktop\\\\Web Scraping\\\\2018Leagues\\\\Horizon.csv\")\n",
    "Ivy18 = pd.read_csv(\"C:\\\\Users\\\\Acer\\\\Desktop\\\\Web Scraping\\\\2018Leagues\\\\Ivy.csv\")\n",
    "MetroAtlanticAthletic18 = pd.read_csv(\"C:\\\\Users\\\\Acer\\\\Desktop\\\\Web Scraping\\\\2018Leagues\\\\Metro Atlantic Athletic.csv\")\n",
    "MidEasternAthletic18 = pd.read_csv(\"C:\\\\Users\\\\Acer\\\\Desktop\\\\Web Scraping\\\\2018Leagues\\\\Mid Eastern Athletic.csv\")\n",
    "MidAmerican18 = pd.read_csv(\"C:\\\\Users\\\\Acer\\\\Desktop\\\\Web Scraping\\\\2018Leagues\\\\Mid-American.csv\")\n",
    "MissouriValley18 = pd.read_csv(\"C:\\\\Users\\\\Acer\\\\Desktop\\\\Web Scraping\\\\2018Leagues\\\\Missouri Valley.csv\")\n",
    "MountainWest18 = pd.read_csv(\"C:\\\\Users\\\\Acer\\\\Desktop\\\\Web Scraping\\\\2018Leagues\\\\Mountain West.csv\")\n",
    "Northeast18 = pd.read_csv(\"C:\\\\Users\\\\Acer\\\\Desktop\\\\Web Scraping\\\\2018Leagues\\\\Northeast.csv\")\n",
    "OhioValley18 = pd.read_csv(\"C:\\\\Users\\\\Acer\\\\Desktop\\\\Web Scraping\\\\2018Leagues\\\\Ohio Valley.csv\")\n",
    "Pacific1218 = pd.read_csv(\"C:\\\\Users\\\\Acer\\\\Desktop\\\\Web Scraping\\\\2018Leagues\\\\Pacific 12.csv\")\n",
    "PatriotLeague18 = pd.read_csv(\"C:\\\\Users\\\\Acer\\\\Desktop\\\\Web Scraping\\\\2018Leagues\\\\Patriot League.csv\")\n",
    "Southeastern18 = pd.read_csv(\"C:\\\\Users\\\\Acer\\\\Desktop\\\\Web Scraping\\\\2018Leagues\\\\Southeastern.csv\")\n",
    "Southern18 = pd.read_csv(\"C:\\\\Users\\\\Acer\\\\Desktop\\\\Web Scraping\\\\2018Leagues\\\\Southern.csv\")\n",
    "Southland18 = pd.read_csv(\"C:\\\\Users\\\\Acer\\\\Desktop\\\\Web Scraping\\\\2018Leagues\\\\Southland.csv\")\n",
    "SouthwesternAthletic18 = pd.read_csv(\"C:\\\\Users\\\\Acer\\\\Desktop\\\\Web Scraping\\\\2018Leagues\\\\Southwestern Athletic.csv\")\n",
    "SummitLeague18 = pd.read_csv(\"C:\\\\Users\\\\Acer\\\\Desktop\\\\Web Scraping\\\\2018Leagues\\\\Summit League.csv\")\n",
    "SunBelt18 = pd.read_csv(\"C:\\\\Users\\\\Acer\\\\Desktop\\\\Web Scraping\\\\2018Leagues\\\\Sun Belt.csv\")\n",
    "WestCoast18 = pd.read_csv(\"C:\\\\Users\\\\Acer\\\\Desktop\\\\Web Scraping\\\\2018Leagues\\\\West Coast.csv\")\n",
    "WesternAthletic18 = pd.read_csv(\"C:\\\\Users\\\\Acer\\\\Desktop\\\\Web Scraping\\\\2018Leagues\\\\Western Athletic.csv\")\n",
    "Tables18 = [AmericaEast18, AmericanAthletic18, Atlantic1018, AtlanticCoast18, AtlanticSun18, Big1218, BigEast18, BigSky18, BigSouth18, BigTen18, BigWest18, Colonial18, ConferenceUSA18, Horizon18, Ivy18, MetroAtlanticAthletic18, MidEasternAthletic18, MidAmerican18, MissouriValley18, MountainWest18, Northeast18, OhioValley18, Pacific1218, PatriotLeague18, Southeastern18, Southern18, Southland18, SouthwesternAthletic18, SummitLeague18, SunBelt18, WestCoast18, WesternAthletic18]"
   ]
  },
  {
   "cell_type": "markdown",
   "metadata": {},
   "source": [
    "## Import CSV's (WORK)"
   ]
  },
  {
   "cell_type": "code",
   "execution_count": 32,
   "metadata": {},
   "outputs": [],
   "source": [
    "##########\n",
    "#TeamStats\n",
    "##########\n",
    "\n",
    "TeamStats = pd.read_csv(\"C:\\\\Users\\\\RomaniRa\\\\Desktop\\\\Web Scraping\\\\TeamStats.csv\")"
   ]
  },
  {
   "cell_type": "code",
   "execution_count": 33,
   "metadata": {},
   "outputs": [],
   "source": [
    "##########\n",
    "#2019TeamStats\n",
    "##########\n",
    "\n",
    "TeamStats19 = pd.read_csv(\"C:\\\\Users\\\\RomaniRa\\\\Desktop\\\\Web Scraping\\\\2019TeamStats.csv\")"
   ]
  },
  {
   "cell_type": "code",
   "execution_count": 34,
   "metadata": {},
   "outputs": [],
   "source": [
    "##########\n",
    "#2018TeamStats\n",
    "##########\n",
    "\n",
    "TeamStats18 = pd.read_csv(\"C:\\\\Users\\\\RomaniRa\\\\Desktop\\\\Web Scraping\\\\2018TeamStats.csv\")"
   ]
  },
  {
   "cell_type": "code",
   "execution_count": 35,
   "metadata": {},
   "outputs": [],
   "source": [
    "##########\n",
    "#APPoll\n",
    "##########\n",
    "\n",
    "APPoll = pd.read_csv(\"C:\\\\Users\\\\RomaniRa\\\\Desktop\\\\Web Scraping\\\\APPoll.csv\")"
   ]
  },
  {
   "cell_type": "code",
   "execution_count": 36,
   "metadata": {},
   "outputs": [],
   "source": [
    "##########\n",
    "#2019APPoll\n",
    "##########\n",
    "\n",
    "APPoll19 = pd.read_csv(\"C:\\\\Users\\\\RomaniRa\\\\Desktop\\\\Web Scraping\\\\2019APPoll.csv\")"
   ]
  },
  {
   "cell_type": "code",
   "execution_count": 37,
   "metadata": {},
   "outputs": [],
   "source": [
    "##########\n",
    "#2018APPoll\n",
    "##########\n",
    "\n",
    "APPoll18 = pd.read_csv(\"C:\\\\Users\\\\RomaniRa\\\\Desktop\\\\Web Scraping\\\\2018APPoll.csv\")"
   ]
  },
  {
   "cell_type": "code",
   "execution_count": 38,
   "metadata": {},
   "outputs": [],
   "source": [
    "##########\n",
    "#KenPom\n",
    "##########\n",
    "\n",
    "KenPom = pd.read_csv(\"C:\\\\Users\\\\RomaniRa\\\\Desktop\\\\Web Scraping\\\\KenPom.csv\")"
   ]
  },
  {
   "cell_type": "code",
   "execution_count": 39,
   "metadata": {},
   "outputs": [],
   "source": [
    "##########\n",
    "#2019KenPom\n",
    "##########\n",
    "\n",
    "KenPom19 = pd.read_csv(\"C:\\\\Users\\\\RomaniRa\\\\Desktop\\\\Web Scraping\\\\2019KenPom.csv\")"
   ]
  },
  {
   "cell_type": "code",
   "execution_count": 40,
   "metadata": {},
   "outputs": [],
   "source": [
    "##########\n",
    "#2018KenPom\n",
    "##########\n",
    "\n",
    "KenPom18 = pd.read_csv(\"C:\\\\Users\\\\RomaniRa\\\\Desktop\\\\Web Scraping\\\\2018KenPom.csv\")"
   ]
  },
  {
   "cell_type": "code",
   "execution_count": 41,
   "metadata": {},
   "outputs": [],
   "source": [
    "##########\n",
    "#PreSeasonAPPoll\n",
    "##########\n",
    "\n",
    "PSAPPoll = pd.read_csv(\"C:\\\\Users\\\\RomaniRa\\\\Desktop\\\\Web Scraping\\\\PreSeasonAPPoll.csv\")"
   ]
  },
  {
   "cell_type": "code",
   "execution_count": 42,
   "metadata": {},
   "outputs": [],
   "source": [
    "##########\n",
    "#2019PreSeasonAPPoll\n",
    "##########\n",
    "\n",
    "PSAPPoll19 = pd.read_csv(\"C:\\\\Users\\\\RomaniRa\\\\Desktop\\\\Web Scraping\\\\2019PreSeasonAPPoll.csv\")"
   ]
  },
  {
   "cell_type": "code",
   "execution_count": 43,
   "metadata": {},
   "outputs": [],
   "source": [
    "##########\n",
    "#2018PreSeasonAPPoll\n",
    "##########\n",
    "\n",
    "PSAPPoll18 = pd.read_csv(\"C:\\\\Users\\\\RomaniRa\\\\Desktop\\\\Web Scraping\\\\2018PreSeasonAPPoll.csv\")"
   ]
  },
  {
   "cell_type": "code",
   "execution_count": 44,
   "metadata": {},
   "outputs": [],
   "source": [
    "##########\n",
    "#Standings\n",
    "##########\n",
    "\n",
    "AmericaEast = pd.read_csv(\"C:\\\\Users\\\\RomaniRa\\\\Desktop\\\\Web Scraping\\\\Leagues\\\\America East.csv\")\n",
    "AmericanAthletic = pd.read_csv(\"C:\\\\Users\\\\RomaniRa\\\\Desktop\\\\Web Scraping\\\\Leagues\\\\American Athletic.csv\")\n",
    "Atlantic10 = pd.read_csv(\"C:\\\\Users\\\\RomaniRa\\\\Desktop\\\\Web Scraping\\\\Leagues\\\\Atlantic 10.csv\")\n",
    "AtlanticCoast = pd.read_csv(\"C:\\\\Users\\\\RomaniRa\\\\Desktop\\\\Web Scraping\\\\Leagues\\\\Atlantic Coast.csv\")\n",
    "AtlanticSun = pd.read_csv(\"C:\\\\Users\\\\RomaniRa\\\\Desktop\\\\Web Scraping\\\\Leagues\\\\Atlantic Sun.csv\")\n",
    "Big12 = pd.read_csv(\"C:\\\\Users\\\\RomaniRa\\\\Desktop\\\\Web Scraping\\\\Leagues\\\\Big 12.csv\")\n",
    "BigEast = pd.read_csv(\"C:\\\\Users\\\\RomaniRa\\\\Desktop\\\\Web Scraping\\\\Leagues\\\\Big East.csv\")\n",
    "BigSky  = pd.read_csv(\"C:\\\\Users\\\\RomaniRa\\\\Desktop\\\\Web Scraping\\\\Leagues\\\\Big Sky.csv\")\n",
    "BigSouth = pd.read_csv(\"C:\\\\Users\\\\RomaniRa\\\\Desktop\\\\Web Scraping\\\\Leagues\\\\Big South.csv\")\n",
    "BigTen = pd.read_csv(\"C:\\\\Users\\\\RomaniRa\\\\Desktop\\\\Web Scraping\\\\Leagues\\\\Big Ten.csv\")\n",
    "BigWest = pd.read_csv(\"C:\\\\Users\\\\RomaniRa\\\\Desktop\\\\Web Scraping\\\\Leagues\\\\Big West.csv\")\n",
    "Colonial = pd.read_csv(\"C:\\\\Users\\\\RomaniRa\\\\Desktop\\\\Web Scraping\\\\Leagues\\\\Colonial.csv\")\n",
    "ConferenceUSA = pd.read_csv(\"C:\\\\Users\\\\RomaniRa\\\\Desktop\\\\Web Scraping\\\\Leagues\\\\Conference USA.csv\")\n",
    "Horizon = pd.read_csv(\"C:\\\\Users\\\\RomaniRa\\\\Desktop\\\\Web Scraping\\\\Leagues\\\\Horizon.csv\")\n",
    "Ivy = pd.read_csv(\"C:\\\\Users\\\\RomaniRa\\\\Desktop\\\\Web Scraping\\\\Leagues\\\\Ivy.csv\")\n",
    "MetroAtlanticAthletic = pd.read_csv(\"C:\\\\Users\\\\RomaniRa\\\\Desktop\\\\Web Scraping\\\\Leagues\\\\Metro Atlantic Athletic.csv\")\n",
    "MidEasternAthletic = pd.read_csv(\"C:\\\\Users\\\\RomaniRa\\\\Desktop\\\\Web Scraping\\\\Leagues\\\\Mid Eastern Athletic.csv\")\n",
    "MidAmerican = pd.read_csv(\"C:\\\\Users\\\\RomaniRa\\\\Desktop\\\\Web Scraping\\\\Leagues\\\\Mid-American.csv\")\n",
    "MissouriValley = pd.read_csv(\"C:\\\\Users\\\\RomaniRa\\\\Desktop\\\\Web Scraping\\\\Leagues\\\\Missouri Valley.csv\")\n",
    "MountainWest = pd.read_csv(\"C:\\\\Users\\\\RomaniRa\\\\Desktop\\\\Web Scraping\\\\Leagues\\\\Mountain West.csv\")\n",
    "Northeast = pd.read_csv(\"C:\\\\Users\\\\RomaniRa\\\\Desktop\\\\Web Scraping\\\\Leagues\\\\Northeast.csv\")\n",
    "OhioValley = pd.read_csv(\"C:\\\\Users\\\\RomaniRa\\\\Desktop\\\\Web Scraping\\\\Leagues\\\\Ohio Valley.csv\")\n",
    "Pacific12 = pd.read_csv(\"C:\\\\Users\\\\RomaniRa\\\\Desktop\\\\Web Scraping\\\\Leagues\\\\Pacific 12.csv\")\n",
    "PatriotLeague = pd.read_csv(\"C:\\\\Users\\\\RomaniRa\\\\Desktop\\\\Web Scraping\\\\Leagues\\\\Patriot League.csv\")\n",
    "Southeastern = pd.read_csv(\"C:\\\\Users\\\\RomaniRa\\\\Desktop\\\\Web Scraping\\\\Leagues\\\\Southeastern.csv\")\n",
    "Southern = pd.read_csv(\"C:\\\\Users\\\\RomaniRa\\\\Desktop\\\\Web Scraping\\\\Leagues\\\\Southern.csv\")\n",
    "Southland = pd.read_csv(\"C:\\\\Users\\\\RomaniRa\\\\Desktop\\\\Web Scraping\\\\Leagues\\\\Southland.csv\")\n",
    "SouthwesternAthletic = pd.read_csv(\"C:\\\\Users\\\\RomaniRa\\\\Desktop\\\\Web Scraping\\\\Leagues\\\\Southwestern Athletic.csv\")\n",
    "SummitLeague = pd.read_csv(\"C:\\\\Users\\\\RomaniRa\\\\Desktop\\\\Web Scraping\\\\Leagues\\\\Summit League.csv\")\n",
    "SunBelt = pd.read_csv(\"C:\\\\Users\\\\RomaniRa\\\\Desktop\\\\Web Scraping\\\\Leagues\\\\Sun Belt.csv\")\n",
    "WestCoast = pd.read_csv(\"C:\\\\Users\\\\RomaniRa\\\\Desktop\\\\Web Scraping\\\\Leagues\\\\West Coast.csv\")\n",
    "WesternAthletic = pd.read_csv(\"C:\\\\Users\\\\RomaniRa\\\\Desktop\\\\Web Scraping\\\\Leagues\\\\Western Athletic.csv\")\n",
    "Tables = [AmericaEast, AmericanAthletic, Atlantic10, AtlanticCoast, AtlanticSun, Big12, BigEast, BigSky, BigSouth, BigTen, BigWest, Colonial, ConferenceUSA, Horizon, Ivy, MetroAtlanticAthletic, MidEasternAthletic, MidAmerican, MissouriValley, MountainWest, Northeast, OhioValley, Pacific12, PatriotLeague, Southeastern, Southern, Southland, SouthwesternAthletic, SummitLeague, SunBelt, WestCoast, WesternAthletic]"
   ]
  },
  {
   "cell_type": "code",
   "execution_count": 45,
   "metadata": {},
   "outputs": [],
   "source": [
    "##########\n",
    "#2019Standings\n",
    "##########\n",
    "\n",
    "AmericaEast19 = pd.read_csv(\"C:\\\\Users\\\\RomaniRa\\\\Desktop\\\\Web Scraping\\\\2019Leagues\\\\America East.csv\")\n",
    "AmericanAthletic19 = pd.read_csv(\"C:\\\\Users\\\\RomaniRa\\\\Desktop\\\\Web Scraping\\\\2019Leagues\\\\American Athletic.csv\")\n",
    "Atlantic1019 = pd.read_csv(\"C:\\\\Users\\\\RomaniRa\\\\Desktop\\\\Web Scraping\\\\2019Leagues\\\\Atlantic 10.csv\")\n",
    "AtlanticCoast19 = pd.read_csv(\"C:\\\\Users\\\\RomaniRa\\\\Desktop\\\\Web Scraping\\\\2019Leagues\\\\Atlantic Coast.csv\")\n",
    "AtlanticSun19 = pd.read_csv(\"C:\\\\Users\\\\RomaniRa\\\\Desktop\\\\Web Scraping\\\\2019Leagues\\\\Atlantic Sun.csv\")\n",
    "Big1219 = pd.read_csv(\"C:\\\\Users\\\\RomaniRa\\\\Desktop\\\\Web Scraping\\\\2019Leagues\\\\Big 12.csv\")\n",
    "BigEast19 = pd.read_csv(\"C:\\\\Users\\\\RomaniRa\\\\Desktop\\\\Web Scraping\\\\2019Leagues\\\\Big East.csv\")\n",
    "BigSky19  = pd.read_csv(\"C:\\\\Users\\\\RomaniRa\\\\Desktop\\\\Web Scraping\\\\2019Leagues\\\\Big Sky.csv\")\n",
    "BigSouth19 = pd.read_csv(\"C:\\\\Users\\\\RomaniRa\\\\Desktop\\\\Web Scraping\\\\2019Leagues\\\\Big South.csv\")\n",
    "BigTen19 = pd.read_csv(\"C:\\\\Users\\\\RomaniRa\\\\Desktop\\\\Web Scraping\\\\2019Leagues\\\\Big Ten.csv\")\n",
    "BigWest19 = pd.read_csv(\"C:\\\\Users\\\\RomaniRa\\\\Desktop\\\\Web Scraping\\\\2019Leagues\\\\Big West.csv\")\n",
    "Colonial19 = pd.read_csv(\"C:\\\\Users\\\\RomaniRa\\\\Desktop\\\\Web Scraping\\\\2019Leagues\\\\Colonial.csv\")\n",
    "ConferenceUSA19 = pd.read_csv(\"C:\\\\Users\\\\RomaniRa\\\\Desktop\\\\Web Scraping\\\\2019Leagues\\\\Conference USA.csv\")\n",
    "Horizon19 = pd.read_csv(\"C:\\\\Users\\\\RomaniRa\\\\Desktop\\\\Web Scraping\\\\2019Leagues\\\\Horizon.csv\")\n",
    "Ivy19 = pd.read_csv(\"C:\\\\Users\\\\RomaniRa\\\\Desktop\\\\Web Scraping\\\\2019Leagues\\\\Ivy.csv\")\n",
    "MetroAtlanticAthletic19 = pd.read_csv(\"C:\\\\Users\\\\RomaniRa\\\\Desktop\\\\Web Scraping\\\\2019Leagues\\\\Metro Atlantic Athletic.csv\")\n",
    "MidEasternAthletic19 = pd.read_csv(\"C:\\\\Users\\\\RomaniRa\\\\Desktop\\\\Web Scraping\\\\2019Leagues\\\\Mid Eastern Athletic.csv\")\n",
    "MidAmerican19 = pd.read_csv(\"C:\\\\Users\\\\RomaniRa\\\\Desktop\\\\Web Scraping\\\\2019Leagues\\\\Mid-American.csv\")\n",
    "MissouriValley19 = pd.read_csv(\"C:\\\\Users\\\\RomaniRa\\\\Desktop\\\\Web Scraping\\\\2019Leagues\\\\Missouri Valley.csv\")\n",
    "MountainWest19 = pd.read_csv(\"C:\\\\Users\\\\RomaniRa\\\\Desktop\\\\Web Scraping\\\\2019Leagues\\\\Mountain West.csv\")\n",
    "Northeast19 = pd.read_csv(\"C:\\\\Users\\\\RomaniRa\\\\Desktop\\\\Web Scraping\\\\2019Leagues\\\\Northeast.csv\")\n",
    "OhioValley19 = pd.read_csv(\"C:\\\\Users\\\\RomaniRa\\\\Desktop\\\\Web Scraping\\\\2019Leagues\\\\Ohio Valley.csv\")\n",
    "Pacific1219 = pd.read_csv(\"C:\\\\Users\\\\RomaniRa\\\\Desktop\\\\Web Scraping\\\\2019Leagues\\\\Pacific 12.csv\")\n",
    "PatriotLeague19 = pd.read_csv(\"C:\\\\Users\\\\RomaniRa\\\\Desktop\\\\Web Scraping\\\\2019Leagues\\\\Patriot League.csv\")\n",
    "Southeastern19 = pd.read_csv(\"C:\\\\Users\\\\RomaniRa\\\\Desktop\\\\Web Scraping\\\\2019Leagues\\\\Southeastern.csv\")\n",
    "Southern19 = pd.read_csv(\"C:\\\\Users\\\\RomaniRa\\\\Desktop\\\\Web Scraping\\\\2019Leagues\\\\Southern.csv\")\n",
    "Southland19 = pd.read_csv(\"C:\\\\Users\\\\RomaniRa\\\\Desktop\\\\Web Scraping\\\\2019Leagues\\\\Southland.csv\")\n",
    "SouthwesternAthletic19 = pd.read_csv(\"C:\\\\Users\\\\RomaniRa\\\\Desktop\\\\Web Scraping\\\\2019Leagues\\\\Southwestern Athletic.csv\")\n",
    "SummitLeague19 = pd.read_csv(\"C:\\\\Users\\\\RomaniRa\\\\Desktop\\\\Web Scraping\\\\2019Leagues\\\\Summit League.csv\")\n",
    "SunBelt19 = pd.read_csv(\"C:\\\\Users\\\\RomaniRa\\\\Desktop\\\\Web Scraping\\\\2019Leagues\\\\Sun Belt.csv\")\n",
    "WestCoast19 = pd.read_csv(\"C:\\\\Users\\\\RomaniRa\\\\Desktop\\\\Web Scraping\\\\2019Leagues\\\\West Coast.csv\")\n",
    "WesternAthletic19 = pd.read_csv(\"C:\\\\Users\\\\RomaniRa\\\\Desktop\\\\Web Scraping\\\\2019Leagues\\\\Western Athletic.csv\")\n",
    "Tables19 = [AmericaEast19, AmericanAthletic19, Atlantic1019, AtlanticCoast19, AtlanticSun19, Big1219, BigEast19, BigSky19, BigSouth19, BigTen19, BigWest19, Colonial19, ConferenceUSA19, Horizon19, Ivy19, MetroAtlanticAthletic19, MidEasternAthletic19, MidAmerican19, MissouriValley19, MountainWest19, Northeast19, OhioValley19, Pacific1219, PatriotLeague19, Southeastern19, Southern19, Southland19, SouthwesternAthletic19, SummitLeague19, SunBelt19, WestCoast19, WesternAthletic19]"
   ]
  },
  {
   "cell_type": "code",
   "execution_count": 46,
   "metadata": {},
   "outputs": [],
   "source": [
    "##########\n",
    "#2018Standings\n",
    "##########\n",
    "\n",
    "AmericaEast18 = pd.read_csv(\"C:\\\\Users\\\\RomaniRa\\\\Desktop\\\\Web Scraping\\\\2018Leagues\\\\America East.csv\")\n",
    "AmericanAthletic18 = pd.read_csv(\"C:\\\\Users\\\\RomaniRa\\\\Desktop\\\\Web Scraping\\\\2018Leagues\\\\American Athletic.csv\")\n",
    "Atlantic1018 = pd.read_csv(\"C:\\\\Users\\\\RomaniRa\\\\Desktop\\\\Web Scraping\\\\2018Leagues\\\\Atlantic 10.csv\")\n",
    "AtlanticCoast18 = pd.read_csv(\"C:\\\\Users\\\\RomaniRa\\\\Desktop\\\\Web Scraping\\\\2018Leagues\\\\Atlantic Coast.csv\")\n",
    "AtlanticSun18 = pd.read_csv(\"C:\\\\Users\\\\RomaniRa\\\\Desktop\\\\Web Scraping\\\\2018Leagues\\\\Atlantic Sun.csv\")\n",
    "Big1218 = pd.read_csv(\"C:\\\\Users\\\\RomaniRa\\\\Desktop\\\\Web Scraping\\\\2018Leagues\\\\Big 12.csv\")\n",
    "BigEast18 = pd.read_csv(\"C:\\\\Users\\\\RomaniRa\\\\Desktop\\\\Web Scraping\\\\2018Leagues\\\\Big East.csv\")\n",
    "BigSky18  = pd.read_csv(\"C:\\\\Users\\\\RomaniRa\\\\Desktop\\\\Web Scraping\\\\2018Leagues\\\\Big Sky.csv\")\n",
    "BigSouth18 = pd.read_csv(\"C:\\\\Users\\\\RomaniRa\\\\Desktop\\\\Web Scraping\\\\2018Leagues\\\\Big South.csv\")\n",
    "BigTen18 = pd.read_csv(\"C:\\\\Users\\\\RomaniRa\\\\Desktop\\\\Web Scraping\\\\2018Leagues\\\\Big Ten.csv\")\n",
    "BigWest18 = pd.read_csv(\"C:\\\\Users\\\\RomaniRa\\\\Desktop\\\\Web Scraping\\\\2018Leagues\\\\Big West.csv\")\n",
    "Colonial18 = pd.read_csv(\"C:\\\\Users\\\\RomaniRa\\\\Desktop\\\\Web Scraping\\\\2018Leagues\\\\Colonial.csv\")\n",
    "ConferenceUSA18 = pd.read_csv(\"C:\\\\Users\\\\RomaniRa\\\\Desktop\\\\Web Scraping\\\\2018Leagues\\\\Conference USA.csv\")\n",
    "Horizon18 = pd.read_csv(\"C:\\\\Users\\\\RomaniRa\\\\Desktop\\\\Web Scraping\\\\2018Leagues\\\\Horizon.csv\")\n",
    "Ivy18 = pd.read_csv(\"C:\\\\Users\\\\RomaniRa\\\\Desktop\\\\Web Scraping\\\\2018Leagues\\\\Ivy.csv\")\n",
    "MetroAtlanticAthletic18 = pd.read_csv(\"C:\\\\Users\\\\RomaniRa\\\\Desktop\\\\Web Scraping\\\\2018Leagues\\\\Metro Atlantic Athletic.csv\")\n",
    "MidEasternAthletic18 = pd.read_csv(\"C:\\\\Users\\\\RomaniRa\\\\Desktop\\\\Web Scraping\\\\2018Leagues\\\\Mid Eastern Athletic.csv\")\n",
    "MidAmerican18 = pd.read_csv(\"C:\\\\Users\\\\RomaniRa\\\\Desktop\\\\Web Scraping\\\\2018Leagues\\\\Mid-American.csv\")\n",
    "MissouriValley18 = pd.read_csv(\"C:\\\\Users\\\\RomaniRa\\\\Desktop\\\\Web Scraping\\\\2018Leagues\\\\Missouri Valley.csv\")\n",
    "MountainWest18 = pd.read_csv(\"C:\\\\Users\\\\RomaniRa\\\\Desktop\\\\Web Scraping\\\\2018Leagues\\\\Mountain West.csv\")\n",
    "Northeast18 = pd.read_csv(\"C:\\\\Users\\\\RomaniRa\\\\Desktop\\\\Web Scraping\\\\2018Leagues\\\\Northeast.csv\")\n",
    "OhioValley18 = pd.read_csv(\"C:\\\\Users\\\\RomaniRa\\\\Desktop\\\\Web Scraping\\\\2018Leagues\\\\Ohio Valley.csv\")\n",
    "Pacific1218 = pd.read_csv(\"C:\\\\Users\\\\RomaniRa\\\\Desktop\\\\Web Scraping\\\\2018Leagues\\\\Pacific 12.csv\")\n",
    "PatriotLeague18 = pd.read_csv(\"C:\\\\Users\\\\RomaniRa\\\\Desktop\\\\Web Scraping\\\\2018Leagues\\\\Patriot League.csv\")\n",
    "Southeastern18 = pd.read_csv(\"C:\\\\Users\\\\RomaniRa\\\\Desktop\\\\Web Scraping\\\\2018Leagues\\\\Southeastern.csv\")\n",
    "Southern18 = pd.read_csv(\"C:\\\\Users\\\\RomaniRa\\\\Desktop\\\\Web Scraping\\\\2018Leagues\\\\Southern.csv\")\n",
    "Southland18 = pd.read_csv(\"C:\\\\Users\\\\RomaniRa\\\\Desktop\\\\Web Scraping\\\\2018Leagues\\\\Southland.csv\")\n",
    "SouthwesternAthletic18 = pd.read_csv(\"C:\\\\Users\\\\RomaniRa\\\\Desktop\\\\Web Scraping\\\\2018Leagues\\\\Southwestern Athletic.csv\")\n",
    "SummitLeague18 = pd.read_csv(\"C:\\\\Users\\\\RomaniRa\\\\Desktop\\\\Web Scraping\\\\2018Leagues\\\\Summit League.csv\")\n",
    "SunBelt18 = pd.read_csv(\"C:\\\\Users\\\\RomaniRa\\\\Desktop\\\\Web Scraping\\\\2018Leagues\\\\Sun Belt.csv\")\n",
    "WestCoast18 = pd.read_csv(\"C:\\\\Users\\\\RomaniRa\\\\Desktop\\\\Web Scraping\\\\2018Leagues\\\\West Coast.csv\")\n",
    "WesternAthletic18 = pd.read_csv(\"C:\\\\Users\\\\RomaniRa\\\\Desktop\\\\Web Scraping\\\\2018Leagues\\\\Western Athletic.csv\")\n",
    "Tables18 = [AmericaEast18, AmericanAthletic18, Atlantic1018, AtlanticCoast18, AtlanticSun18, Big1218, BigEast18, BigSky18, BigSouth18, BigTen18, BigWest18, Colonial18, ConferenceUSA18, Horizon18, Ivy18, MetroAtlanticAthletic18, MidEasternAthletic18, MidAmerican18, MissouriValley18, MountainWest18, Northeast18, OhioValley18, Pacific1218, PatriotLeague18, Southeastern18, Southern18, Southland18, SouthwesternAthletic18, SummitLeague18, SunBelt18, WestCoast18, WesternAthletic18]"
   ]
  },
  {
   "cell_type": "markdown",
   "metadata": {},
   "source": [
    "## Merge Standings Dataframes"
   ]
  },
  {
   "cell_type": "code",
   "execution_count": 48,
   "metadata": {},
   "outputs": [],
   "source": [
    "##########\n",
    "#FullDataset\n",
    "##########\n",
    "\n",
    "df1 = TeamStats.merge(AmericaEast, left_on='TeamID', right_on='TeamID', suffixes=('','_2'))\n",
    "df2 = TeamStats.merge(AmericanAthletic, left_on='TeamID', right_on='TeamID', suffixes=('','_2'))\n",
    "df3 = TeamStats.merge(Atlantic10, left_on='TeamID', right_on='TeamID', suffixes=('','_2'))\n",
    "df4 = TeamStats.merge(AtlanticCoast, left_on='TeamID', right_on='TeamID', suffixes=('','_2'))\n",
    "df5 = TeamStats.merge(AtlanticSun, left_on='TeamID', right_on='TeamID', suffixes=('','_2'))\n",
    "df6 = TeamStats.merge(Big12, left_on='TeamID', right_on='TeamID', suffixes=('','_2'))\n",
    "df7 = TeamStats.merge(BigEast, left_on='TeamID', right_on='TeamID', suffixes=('','_2'))\n",
    "df8 = TeamStats.merge(BigSky, left_on='TeamID', right_on='TeamID', suffixes=('','_2'))\n",
    "df9 = TeamStats.merge(BigSouth, left_on='TeamID', right_on='TeamID', suffixes=('','_2'))\n",
    "df10 = TeamStats.merge(BigTen, left_on='TeamID', right_on='TeamID', suffixes=('','_2'))\n",
    "df11 = TeamStats.merge(BigWest, left_on='TeamID', right_on='TeamID', suffixes=('','_2'))\n",
    "df12 = TeamStats.merge(Colonial, left_on='TeamID', right_on='TeamID', suffixes=('','_2'))\n",
    "df13 = TeamStats.merge(ConferenceUSA, left_on='TeamID', right_on='TeamID', suffixes=('','_2'))\n",
    "df14 = TeamStats.merge(Horizon, left_on='TeamID', right_on='TeamID', suffixes=('','_2'))\n",
    "df15 = TeamStats.merge(Ivy, left_on='TeamID', right_on='TeamID', suffixes=('','_2'))\n",
    "df16 = TeamStats.merge(MetroAtlanticAthletic, left_on='TeamID', right_on='TeamID', suffixes=('','_2'))\n",
    "df17 = TeamStats.merge(MidEasternAthletic, left_on='TeamID', right_on='TeamID', suffixes=('','_2'))\n",
    "df18 = TeamStats.merge(MidAmerican, left_on='TeamID', right_on='TeamID', suffixes=('','_2'))\n",
    "df19 = TeamStats.merge(MissouriValley, left_on='TeamID', right_on='TeamID', suffixes=('','_2'))\n",
    "df20 = TeamStats.merge(MountainWest, left_on='TeamID', right_on='TeamID', suffixes=('','_2'))\n",
    "df21 = TeamStats.merge(Northeast, left_on='TeamID', right_on='TeamID', suffixes=('','_2'))\n",
    "df22 = TeamStats.merge(OhioValley, left_on='TeamID', right_on='TeamID', suffixes=('','_2'))\n",
    "df23 = TeamStats.merge(Pacific12, left_on='TeamID', right_on='TeamID', suffixes=('','_2'))\n",
    "df24 = TeamStats.merge(PatriotLeague, left_on='TeamID', right_on='TeamID', suffixes=('','_2'))\n",
    "df25 = TeamStats.merge(Southeastern, left_on='TeamID', right_on='TeamID', suffixes=('','_2'))\n",
    "df26 = TeamStats.merge(Southern, left_on='TeamID', right_on='TeamID', suffixes=('','_2'))\n",
    "df27 = TeamStats.merge(Southland, left_on='TeamID', right_on='TeamID', suffixes=('','_2'))\n",
    "df28 = TeamStats.merge(SouthwesternAthletic, left_on='TeamID', right_on='TeamID', suffixes=('','_2'))\n",
    "df29 = TeamStats.merge(SummitLeague, left_on='TeamID', right_on='TeamID', suffixes=('','_2'))\n",
    "df30 = TeamStats.merge(SunBelt, left_on='TeamID', right_on='TeamID', suffixes=('','_2'))\n",
    "df31 = TeamStats.merge(WestCoast, left_on='TeamID', right_on='TeamID', suffixes=('','_2'))\n",
    "df32 = TeamStats.merge(WesternAthletic, left_on='TeamID', right_on='TeamID', suffixes=('','_2'))"
   ]
  },
  {
   "cell_type": "code",
   "execution_count": 49,
   "metadata": {},
   "outputs": [],
   "source": [
    "##########\n",
    "#2019FullDataset\n",
    "##########\n",
    "\n",
    "df1_19 = TeamStats.merge(AmericaEast19, left_on='TeamID', right_on='TeamID', suffixes=('','_2'))\n",
    "df2_19 = TeamStats.merge(AmericanAthletic19, left_on='TeamID', right_on='TeamID', suffixes=('','_2'))\n",
    "df3_19 = TeamStats.merge(Atlantic1019, left_on='TeamID', right_on='TeamID', suffixes=('','_2'))\n",
    "df4_19 = TeamStats.merge(AtlanticCoast19, left_on='TeamID', right_on='TeamID', suffixes=('','_2'))\n",
    "df5_19 = TeamStats.merge(AtlanticSun19, left_on='TeamID', right_on='TeamID', suffixes=('','_2'))\n",
    "df6_19 = TeamStats.merge(Big1219, left_on='TeamID', right_on='TeamID', suffixes=('','_2'))\n",
    "df7_19 = TeamStats.merge(BigEast19, left_on='TeamID', right_on='TeamID', suffixes=('','_2'))\n",
    "df8_19 = TeamStats.merge(BigSky19, left_on='TeamID', right_on='TeamID', suffixes=('','_2'))\n",
    "df9_19 = TeamStats.merge(BigSouth19, left_on='TeamID', right_on='TeamID', suffixes=('','_2'))\n",
    "df10_19 = TeamStats.merge(BigTen19, left_on='TeamID', right_on='TeamID', suffixes=('','_2'))\n",
    "df11_19 = TeamStats.merge(BigWest19, left_on='TeamID', right_on='TeamID', suffixes=('','_2'))\n",
    "df12_19 = TeamStats.merge(Colonial19, left_on='TeamID', right_on='TeamID', suffixes=('','_2'))\n",
    "df13_19 = TeamStats.merge(ConferenceUSA19, left_on='TeamID', right_on='TeamID', suffixes=('','_2'))\n",
    "df14_19 = TeamStats.merge(Horizon19, left_on='TeamID', right_on='TeamID', suffixes=('','_2'))\n",
    "df15_19 = TeamStats.merge(Ivy19, left_on='TeamID', right_on='TeamID', suffixes=('','_2'))\n",
    "df16_19 = TeamStats.merge(MetroAtlanticAthletic19, left_on='TeamID', right_on='TeamID', suffixes=('','_2'))\n",
    "df17_19 = TeamStats.merge(MidEasternAthletic19, left_on='TeamID', right_on='TeamID', suffixes=('','_2'))\n",
    "df18_19 = TeamStats.merge(MidAmerican19, left_on='TeamID', right_on='TeamID', suffixes=('','_2'))\n",
    "df19_19 = TeamStats.merge(MissouriValley19, left_on='TeamID', right_on='TeamID', suffixes=('','_2'))\n",
    "df20_19 = TeamStats.merge(MountainWest19, left_on='TeamID', right_on='TeamID', suffixes=('','_2'))\n",
    "df21_19 = TeamStats.merge(Northeast19, left_on='TeamID', right_on='TeamID', suffixes=('','_2'))\n",
    "df22_19 = TeamStats.merge(OhioValley19, left_on='TeamID', right_on='TeamID', suffixes=('','_2'))\n",
    "df23_19 = TeamStats.merge(Pacific1219, left_on='TeamID', right_on='TeamID', suffixes=('','_2'))\n",
    "df24_19 = TeamStats.merge(PatriotLeague19, left_on='TeamID', right_on='TeamID', suffixes=('','_2'))\n",
    "df25_19 = TeamStats.merge(Southeastern19, left_on='TeamID', right_on='TeamID', suffixes=('','_2'))\n",
    "df26_19 = TeamStats.merge(Southern19, left_on='TeamID', right_on='TeamID', suffixes=('','_2'))\n",
    "df27_19 = TeamStats.merge(Southland19, left_on='TeamID', right_on='TeamID', suffixes=('','_2'))\n",
    "df28_19 = TeamStats.merge(SouthwesternAthletic19, left_on='TeamID', right_on='TeamID', suffixes=('','_2'))\n",
    "df29_19 = TeamStats.merge(SummitLeague19, left_on='TeamID', right_on='TeamID', suffixes=('','_2'))\n",
    "df30_19 = TeamStats.merge(SunBelt19, left_on='TeamID', right_on='TeamID', suffixes=('','_2'))\n",
    "df31_19 = TeamStats.merge(WestCoast19, left_on='TeamID', right_on='TeamID', suffixes=('','_2'))\n",
    "df32_19 = TeamStats.merge(WesternAthletic19, left_on='TeamID', right_on='TeamID', suffixes=('','_2'))"
   ]
  },
  {
   "cell_type": "code",
   "execution_count": 52,
   "metadata": {},
   "outputs": [],
   "source": [
    "##########\n",
    "#2018FullDataset\n",
    "##########\n",
    "\n",
    "df1_18 = TeamStats.merge(AmericaEast18, left_on='TeamID', right_on='TeamID', suffixes=('','_2'))\n",
    "df2_18 = TeamStats.merge(AmericanAthletic18, left_on='TeamID', right_on='TeamID', suffixes=('','_2'))\n",
    "df3_18 = TeamStats.merge(Atlantic1018, left_on='TeamID', right_on='TeamID', suffixes=('','_2'))\n",
    "df4_18 = TeamStats.merge(AtlanticCoast18, left_on='TeamID', right_on='TeamID', suffixes=('','_2'))\n",
    "df5_18 = TeamStats.merge(AtlanticSun18, left_on='TeamID', right_on='TeamID', suffixes=('','_2'))\n",
    "df6_18 = TeamStats.merge(Big1218, left_on='TeamID', right_on='TeamID', suffixes=('','_2'))\n",
    "df7_18 = TeamStats.merge(BigEast18, left_on='TeamID', right_on='TeamID', suffixes=('','_2'))\n",
    "df8_18 = TeamStats.merge(BigSky18, left_on='TeamID', right_on='TeamID', suffixes=('','_2'))\n",
    "df9_18 = TeamStats.merge(BigSouth18, left_on='TeamID', right_on='TeamID', suffixes=('','_2'))\n",
    "df10_18 = TeamStats.merge(BigTen18, left_on='TeamID', right_on='TeamID', suffixes=('','_2'))\n",
    "df11_18 = TeamStats.merge(BigWest18, left_on='TeamID', right_on='TeamID', suffixes=('','_2'))\n",
    "df12_18 = TeamStats.merge(Colonial18, left_on='TeamID', right_on='TeamID', suffixes=('','_2'))\n",
    "df13_18 = TeamStats.merge(ConferenceUSA18, left_on='TeamID', right_on='TeamID', suffixes=('','_2'))\n",
    "df14_18 = TeamStats.merge(Horizon18, left_on='TeamID', right_on='TeamID', suffixes=('','_2'))\n",
    "df15_18 = TeamStats.merge(Ivy18, left_on='TeamID', right_on='TeamID', suffixes=('','_2'))\n",
    "df16_18 = TeamStats.merge(MetroAtlanticAthletic18, left_on='TeamID', right_on='TeamID', suffixes=('','_2'))\n",
    "df17_18 = TeamStats.merge(MidEasternAthletic18, left_on='TeamID', right_on='TeamID', suffixes=('','_2'))\n",
    "df18_18 = TeamStats.merge(MidAmerican18, left_on='TeamID', right_on='TeamID', suffixes=('','_2'))\n",
    "df19_18 = TeamStats.merge(MissouriValley18, left_on='TeamID', right_on='TeamID', suffixes=('','_2'))\n",
    "df20_18 = TeamStats.merge(MountainWest18, left_on='TeamID', right_on='TeamID', suffixes=('','_2'))\n",
    "df21_18 = TeamStats.merge(Northeast18, left_on='TeamID', right_on='TeamID', suffixes=('','_2'))\n",
    "df22_18 = TeamStats.merge(OhioValley18, left_on='TeamID', right_on='TeamID', suffixes=('','_2'))\n",
    "df23_18 = TeamStats.merge(Pacific1218, left_on='TeamID', right_on='TeamID', suffixes=('','_2'))\n",
    "df24_18 = TeamStats.merge(PatriotLeague18, left_on='TeamID', right_on='TeamID', suffixes=('','_2'))\n",
    "df25_18 = TeamStats.merge(Southeastern18, left_on='TeamID', right_on='TeamID', suffixes=('','_2'))\n",
    "df26_18 = TeamStats.merge(Southern18, left_on='TeamID', right_on='TeamID', suffixes=('','_2'))\n",
    "df27_18 = TeamStats.merge(Southland18, left_on='TeamID', right_on='TeamID', suffixes=('','_2'))\n",
    "df28_18 = TeamStats.merge(SouthwesternAthletic18, left_on='TeamID', right_on='TeamID', suffixes=('','_2'))\n",
    "df29_18 = TeamStats.merge(SummitLeague18, left_on='TeamID', right_on='TeamID', suffixes=('','_2'))\n",
    "df30_18 = TeamStats.merge(SunBelt18, left_on='TeamID', right_on='TeamID', suffixes=('','_2'))\n",
    "df31_18 = TeamStats.merge(WestCoast18, left_on='TeamID', right_on='TeamID', suffixes=('','_2'))\n",
    "df32_18 = TeamStats.merge(WesternAthletic18, left_on='TeamID', right_on='TeamID', suffixes=('','_2'))"
   ]
  },
  {
   "cell_type": "markdown",
   "metadata": {},
   "source": [
    "## Append Dataframes"
   ]
  },
  {
   "cell_type": "code",
   "execution_count": 53,
   "metadata": {},
   "outputs": [],
   "source": [
    "##########\n",
    "#FullDataset\n",
    "##########\n",
    "\n",
    "df = df1.append([df2, df3, df4, df5, df6, df7, df8, df9, df10, df11, df12, df13, df14, df15, df16, df17, df18, df19, df20, df21, df22, df23, df24, df25, df26, df27, df28, df29, df30, df31, df32], ignore_index=True)\n",
    "df = df.merge(APPoll,how='left', left_on='TeamID', right_on='TeamID')\n",
    "df = df.merge(KenPom, how='left', left_on='TeamID', right_on='TeamID')\n",
    "df = df.merge(PSAPPoll, how = 'left', left_on = 'TeamID', right_on = 'TeamID')"
   ]
  },
  {
   "cell_type": "code",
   "execution_count": 54,
   "metadata": {},
   "outputs": [],
   "source": [
    "##########\n",
    "#2019FullDataset\n",
    "##########\n",
    "\n",
    "df19 = df1_19.append([df2_19, df3_19, df4_19, df5_19, df6_19, df7_19, df8_19, df9_19, df10_19, df11_19, df12_19, df13_19, df14_19, df15_19, df16_19, df17_19, df18_19, df19_19, df20_19, df21_19, df22_19, df23_19, df24_19, df25_19, df26_19, df27_19, df28_19, df29_19, df30_19, df31_19, df32_19], ignore_index=True)\n",
    "df19 = df19.merge(APPoll19,how='left', left_on='TeamID', right_on='TeamID')\n",
    "df19 = df19.merge(KenPom19, how='left', left_on='TeamID', right_on='TeamID')\n",
    "df19 = df19.merge(PSAPPoll19, how = 'left', left_on = 'TeamID', right_on = 'TeamID')"
   ]
  },
  {
   "cell_type": "code",
   "execution_count": 57,
   "metadata": {},
   "outputs": [],
   "source": [
    "##########\n",
    "#2018FullDataset\n",
    "##########\n",
    "\n",
    "df18 = df1_18.append([df2_18, df3_18, df4_18, df5_18, df6_18, df7_18, df8_18, df9_18, df10_18, df11_18, df12_18, df13_18, df14_18, df15_18, df16_18, df17_18, df18_18, df19_18, df20_18, df21_18, df22_18, df23_18, df24_18, df25_18, df26_18, df27_18, df28_18, df29_18, df30_18, df31_18, df32_18], ignore_index=True)\n",
    "df18 = df18.merge(APPoll18,how='left', left_on='TeamID', right_on='TeamID')\n",
    "df18 = df18.merge(KenPom18, how='left', left_on='TeamID', right_on='TeamID')\n",
    "df18 = df18.merge(PSAPPoll18, how = 'left', left_on = 'TeamID', right_on = 'TeamID')"
   ]
  },
  {
   "cell_type": "markdown",
   "metadata": {},
   "source": [
    "## Drop Not Needed Columns "
   ]
  },
  {
   "cell_type": "code",
   "execution_count": 58,
   "metadata": {
    "scrolled": true
   },
   "outputs": [],
   "source": [
    "##########\n",
    "#FullDataset\n",
    "##########\n",
    "\n",
    "df = df.drop('STA_Team', axis = 1).drop('AP_Team', axis = 1).drop('AP_W', axis = 1).drop('AP_L', axis = 1).drop('KP_Team', axis = 1).drop('KP_W', axis = 1).drop('KP_L', axis = 1).drop('PS_Team', axis = 1).drop('TS_PTS', axis = 1)"
   ]
  },
  {
   "cell_type": "code",
   "execution_count": 59,
   "metadata": {},
   "outputs": [],
   "source": [
    "##########\n",
    "#2019FullDataset\n",
    "##########\n",
    "\n",
    "df19 = df19.drop('STA19_Team', axis = 1).drop('AP19_Team', axis = 1).drop('AP19_W', axis = 1).drop('AP19_L', axis = 1).drop('KP19_Team', axis = 1).drop('KP19_W', axis = 1).drop('KP19_L', axis = 1).drop('PS19_Team', axis = 1).drop('TS_PTS', axis = 1)"
   ]
  },
  {
   "cell_type": "code",
   "execution_count": 60,
   "metadata": {},
   "outputs": [],
   "source": [
    "##########\n",
    "#2018FullDataset\n",
    "##########\n",
    "\n",
    "df18 = df18.drop('STA18_Team', axis = 1).drop('AP18_Team', axis = 1).drop('AP18_W', axis = 1).drop('AP18_L', axis = 1).drop('KP18_Team', axis = 1).drop('KP18_W', axis = 1).drop('KP18_L', axis = 1).drop('PS18_Team', axis = 1).drop('TS_PTS', axis = 1)"
   ]
  },
  {
   "cell_type": "markdown",
   "metadata": {},
   "source": [
    "## Rearrange Columns "
   ]
  },
  {
   "cell_type": "code",
   "execution_count": 63,
   "metadata": {},
   "outputs": [],
   "source": [
    "##########\n",
    "#FullDataset\n",
    "##########\n",
    "\n",
    "df = df[['AP_Rnk', 'PS_Rnk', 'KP_Rank', 'TeamID', 'TS_Team', 'KP_Conference', 'TS_GP', 'STA_W', 'STA_L', 'STA_Pct', 'STA_Strk', 'STA_Conf_W', 'STA_Conf_L', 'STA_Conf_Pct', 'STA_Home_W', 'STA_Home_L', 'STA_Away_W', 'STA_Away_L', 'STA_Neutral_W', 'STA_Neutral_L', 'STA_Top25_W', 'STA_Top25_L', 'STA_Conf_PF', 'STA_Conf_PA', 'STA_Conf_PPG', 'STA_Conf_PAPG', 'STA_PF', 'STA_PA', 'STA_PPG', 'STA_PAPG', 'TS_FGM', 'TS_FGA', 'TS_FG%', 'TS_3PM', 'TS_3PA', 'TS_3P%', 'TS_FTM', 'TS_FTA', 'TS_FT%', 'KP_Ajusted Efficiency Margin', 'KP_Adjusted Offensive Efficiency', 'KP_AOE Rk', 'KP_Ajusted Efficiency Margin', 'KP_ADE Rk', 'KP_Adjusted Tempo', 'KP_AT Rk', 'KP_Luck', 'KP_Luck Rk', 'KP_Strength of Schedule', 'KP_SOS Rk', 'KP_Non-Conference Strength of Schedule', 'KP_NCSOS Rk', 'KP_Average Opponents Offensive Efficiency', 'KP_AOOE Rk', 'KP_Average Opponents Defensive Efficiency', 'KP_AODE Rk']]"
   ]
  },
  {
   "cell_type": "code",
   "execution_count": 65,
   "metadata": {},
   "outputs": [],
   "source": [
    "##########\n",
    "#2019FullDataset\n",
    "##########\n",
    "\n",
    "df19 = df19[['AP19_Rnk', 'PS19_Rnk', 'KP19_Rank', 'TeamID', 'TS_Team', 'KP19_Conference', 'TS_GP', 'STA19_W', 'STA19_L', 'STA19_Pct', 'STA19_Strk', 'STA19_Conf_W', 'STA19_Conf_L', 'STA19_Conf_Pct', 'STA19_Home_W', 'STA19_Home_L', 'STA19_Away_W', 'STA19_Away_L', 'STA19_Neutral_W', 'STA19_Neutral_L', 'STA19_Top25_W', 'STA19_Top25_L', 'STA19_Conf_PF', 'STA19_Conf_PA', 'STA19_Conf_PPG', 'STA19_Conf_PAPG', 'STA19_PF', 'STA19_PA', 'STA19_PPG', 'STA19_PAPG', 'TS_FGM', 'TS_FGA', 'TS_FG%', 'TS_3PM', 'TS_3PA', 'TS_3P%', 'TS_FTM', 'TS_FTA', 'TS_FT%', 'KP19_Ajusted Efficiency Margin', 'KP19_Adjusted Offensive Efficiency', 'KP19_AOE Rk', 'KP19_Adjusted Defensive Efficiency', 'KP19_ADE Rk', 'KP19_Adjusted Tempo', 'KP19_AT Rk', 'KP19_Luck', 'KP19_Luck Rk', 'KP19_Strength of Schedule', 'KP19_SOS Rk', 'KP19_Non-Conference Strength of Schedule', 'KP19_NCSOS Rk', 'KP19_Average Opponents Offensive Efficiency', 'KP19_AOOE Rk', 'KP19_Average Opponents Defensive Efficiency', 'KP19_AODE Rk']]"
   ]
  },
  {
   "cell_type": "code",
   "execution_count": 66,
   "metadata": {},
   "outputs": [],
   "source": [
    "##########\n",
    "#2018FullDataset\n",
    "##########\n",
    "\n",
    "df18 = df18[['AP18_Rnk', 'PS18_Rnk', 'KP18_Rank', 'TeamID', 'TS_Team', 'KP18_Conference', 'TS_GP', 'STA18_W', 'STA18_L', 'STA18_Pct', 'STA18_Strk', 'STA18_Conf_W', 'STA18_Conf_L', 'STA18_Conf_Pct', 'STA18_Home_W', 'STA18_Home_L', 'STA18_Away_W', 'STA18_Away_L', 'STA18_Neutral_W', 'STA18_Neutral_L', 'STA18_Top25_W', 'STA18_Top25_L', 'STA18_Conf_PF', 'STA18_Conf_PA', 'STA18_Conf_PPG', 'STA18_Conf_PAPG', 'STA18_PF', 'STA18_PA', 'STA18_PPG', 'STA18_PAPG', 'TS_FGM', 'TS_FGA', 'TS_FG%', 'TS_3PM', 'TS_3PA', 'TS_3P%', 'TS_FTM', 'TS_FTA', 'TS_FT%', 'KP18_Ajusted Efficiency Margin', 'KP18_Adjusted Offensive Efficiency', 'KP18_AOE Rk', 'KP18_Adjusted Defensive Efficiency', 'KP18_ADE Rk', 'KP18_Adjusted Tempo', 'KP18_AT Rk', 'KP18_Luck', 'KP18_Luck Rk', 'KP18_Strength of Schedule', 'KP18_SOS Rk', 'KP18_Non-Conference Strength of Schedule', 'KP18_NCSOS Rk', 'KP18_Average Opponents Offensive Efficiency', 'KP18_AOOE Rk', 'KP18_Average Opponents Defensive Efficiency', 'KP18_AODE Rk']]"
   ]
  },
  {
   "cell_type": "markdown",
   "metadata": {},
   "source": [
    "## Save as CSV (HOME) "
   ]
  },
  {
   "cell_type": "code",
   "execution_count": 13,
   "metadata": {},
   "outputs": [],
   "source": [
    "##########\n",
    "#FullDataset\n",
    "##########\n",
    "\n",
    "df.to_csv(r\"C:\\\\Users\\\\Acer\\\\Desktop\\\\Web Scraping\\\\FullDataset.csv\", index = False, sep = ',', encoding = 'utf-8')"
   ]
  },
  {
   "cell_type": "code",
   "execution_count": null,
   "metadata": {},
   "outputs": [],
   "source": [
    "##########\n",
    "#2019FullDataset\n",
    "##########\n",
    "\n",
    "df19.to_csv(r\"C:\\\\Users\\\\Acer\\\\Desktop\\\\Web Scraping\\\\2019FullDataset.csv\", index = False, sep = ',', encoding = 'utf-8')"
   ]
  },
  {
   "cell_type": "code",
   "execution_count": null,
   "metadata": {},
   "outputs": [],
   "source": [
    "##########\n",
    "#2018FullDataset\n",
    "##########\n",
    "\n",
    "df18.to_csv(r\"C:\\\\Users\\\\Acer\\\\Desktop\\\\Web Scraping\\\\2018FullDataset.csv\", index = False, sep = ',', encoding = 'utf-8')"
   ]
  },
  {
   "cell_type": "markdown",
   "metadata": {},
   "source": [
    "## Save as CSV (WORK) "
   ]
  },
  {
   "cell_type": "code",
   "execution_count": 67,
   "metadata": {},
   "outputs": [],
   "source": [
    "##########\n",
    "#FullDataset\n",
    "##########\n",
    "\n",
    "df.to_csv(r\"C:\\\\Users\\\\RomaniRa\\\\Desktop\\\\Web Scraping\\\\FullDataset.csv\", index = False, sep = ',', encoding = 'utf-8')"
   ]
  },
  {
   "cell_type": "code",
   "execution_count": 68,
   "metadata": {},
   "outputs": [],
   "source": [
    "##########\n",
    "#2019FullDataset\n",
    "##########\n",
    "\n",
    "df19.to_csv(r\"C:\\\\Users\\\\RomaniRa\\\\Desktop\\\\Web Scraping\\\\2019FullDataset.csv\", index = False, sep = ',', encoding = 'utf-8')"
   ]
  },
  {
   "cell_type": "code",
   "execution_count": 69,
   "metadata": {},
   "outputs": [],
   "source": [
    "##########\n",
    "#2018FullDataset\n",
    "##########\n",
    "\n",
    "df18.to_csv(r\"C:\\\\Users\\\\RomaniRa\\\\Desktop\\\\Web Scraping\\\\2018FullDataset.csv\", index = False, sep = ',', encoding = 'utf-8')"
   ]
  },
  {
   "cell_type": "code",
   "execution_count": null,
   "metadata": {},
   "outputs": [],
   "source": []
  }
 ],
 "metadata": {
  "kernelspec": {
   "display_name": "Python 3",
   "language": "python",
   "name": "python3"
  },
  "language_info": {
   "codemirror_mode": {
    "name": "ipython",
    "version": 3
   },
   "file_extension": ".py",
   "mimetype": "text/x-python",
   "name": "python",
   "nbconvert_exporter": "python",
   "pygments_lexer": "ipython3",
   "version": "3.7.4"
  }
 },
 "nbformat": 4,
 "nbformat_minor": 2
}
